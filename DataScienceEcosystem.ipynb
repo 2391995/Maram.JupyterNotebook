{
 "cells": [
  {
   "cell_type": "markdown",
   "id": "421d646f",
   "metadata": {},
   "source": [
    "# Data Science Tools and Ecosystem"
   ]
  },
  {
   "attachments": {},
   "cell_type": "markdown",
   "id": "2fe542b0",
   "metadata": {},
   "source": [
    "In this notebook, Data Science Tools and Ecosystem are summarized."
   ]
  },
  {
   "cell_type": "markdown",
   "id": "9f41d0e7",
   "metadata": {},
   "source": [
    "# Objectives:"
   ]
  },
  {
   "cell_type": "markdown",
   "id": "5383a8db",
   "metadata": {},
   "source": [
    "Learn what data science is. The most popular languages used in data science. The most important data science libraries."
   ]
  },
  {
   "cell_type": "markdown",
   "id": "780c023b",
   "metadata": {},
   "source": [
    "Some of the popular languages that Data Scientists use are:"
   ]
  },
  {
   "cell_type": "markdown",
   "id": "1ccd2362",
   "metadata": {},
   "source": [
    "1-Python"
   ]
  },
  {
   "cell_type": "markdown",
   "id": "0711fefe",
   "metadata": {},
   "source": [
    "2-R"
   ]
  },
  {
   "cell_type": "markdown",
   "id": "38aa0bdd",
   "metadata": {},
   "source": [
    "3-SQL"
   ]
  },
  {
   "cell_type": "markdown",
   "id": "897dab86",
   "metadata": {},
   "source": [
    "4-Julia"
   ]
  },
  {
   "cell_type": "markdown",
   "id": "c122f923",
   "metadata": {},
   "source": [
    "Some of the commonly used libraries used by Data Scientists include:"
   ]
  },
  {
   "cell_type": "markdown",
   "id": "fad76dfb",
   "metadata": {},
   "source": [
    "1-TensorFlow"
   ]
  },
  {
   "cell_type": "markdown",
   "id": "e7fc85b6",
   "metadata": {},
   "source": [
    "2-NumPy"
   ]
  },
  {
   "cell_type": "markdown",
   "id": "117aaae5",
   "metadata": {},
   "source": [
    "3-Pandas"
   ]
  },
  {
   "cell_type": "markdown",
   "id": "067e2a1e",
   "metadata": {},
   "source": [
    "Data Science Tool "
   ]
  },
  {
   "cell_type": "markdown",
   "id": "818676e8",
   "metadata": {},
   "source": [
    "|Data Science Tool|\n",
    "|-----------------|\n",
    "|Jupyter Notebooke|\n",
    "|Python|\n",
    "|NumPy|"
   ]
  },
  {
   "cell_type": "markdown",
   "id": "7f2da074",
   "metadata": {},
   "source": [
    "### Below are a few examples of evaluating arithmetic expressions in Python"
   ]
  },
  {
   "cell_type": "markdown",
   "id": "8ae97750",
   "metadata": {},
   "source": [
    "This a simple arithmetic expression to mutiply then add integers."
   ]
  },
  {
   "cell_type": "code",
   "execution_count": 12,
   "id": "c0e1b593",
   "metadata": {},
   "outputs": [
    {
     "data": {
      "text/plain": [
       "17"
      ]
     },
     "execution_count": 12,
     "metadata": {},
     "output_type": "execute_result"
    }
   ],
   "source": [
    "(3*4)+5"
   ]
  },
  {
   "cell_type": "markdown",
   "id": "72919efc",
   "metadata": {},
   "source": [
    "This will convert 200 minutes to hours by diving by 60."
   ]
  },
  {
   "cell_type": "code",
   "execution_count": 25,
   "id": "b151b046",
   "metadata": {},
   "outputs": [
    {
     "data": {
      "text/plain": [
       "3"
      ]
     },
     "execution_count": 25,
     "metadata": {},
     "output_type": "execute_result"
    }
   ],
   "source": [
    "200//60"
   ]
  },
  {
   "cell_type": "markdown",
   "id": "5917955a",
   "metadata": {},
   "source": [
    "## Author"
   ]
  },
  {
   "cell_type": "markdown",
   "id": "0c9d67ff",
   "metadata": {},
   "source": [
    "Maram"
   ]
  }
 ],
 "metadata": {
  "kernelspec": {
   "display_name": "Python 3 (ipykernel)",
   "language": "python",
   "name": "python3"
  },
  "language_info": {
   "codemirror_mode": {
    "name": "ipython",
    "version": 3
   },
   "file_extension": ".py",
   "mimetype": "text/x-python",
   "name": "python",
   "nbconvert_exporter": "python",
   "pygments_lexer": "ipython3",
   "version": "3.11.5"
  }
 },
 "nbformat": 4,
 "nbformat_minor": 5
}
